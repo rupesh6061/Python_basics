{
 "cells": [
  {
   "cell_type": "markdown",
   "id": "c2dc4a7d-17ce-4536-ac25-cf2c2f3c4a54",
   "metadata": {
    "slideshow": {
     "slide_type": "slide"
    }
   },
   "source": [
    "# Python Basics"
   ]
  },
  {
   "cell_type": "markdown",
   "id": "885ba99f-6966-49cd-b8f1-c8c4e93bda4d",
   "metadata": {},
   "source": [
    "1. **What is Python, and why is it popular?**\n",
    " - Python is a high level interpreted programming language.\n",
    " - **It is popular due to several reasons:**\n",
    " - Easy to understand syntax\n",
    " - Large Community Support\n",
    " - Versatility\n",
    " - A lot of libraries\n",
    "\n",
    "2. **What is an interpreter in Python?**\n",
    " - Interpreter is a program used for line by line execution of code in python.\n",
    "\n",
    "3. **What are pre-defined keywords in Python?**\n",
    " - Pre-defined keywords are stored in python and assigned a particular task based on keyword.We can't use these keywords as a variable name and\n",
    "   identifiers.e.g. if,else,while,for etc\n",
    "\n",
    "4. **Can keywords be used as variable names?**\n",
    " - No, because keywords hold a special meaning or a special task assigned to them.\n",
    "\n",
    "5. **What is mutability in Python?**\n",
    " - Which can be modified after its creation is known as mutable objects. e.g List,Set,Dictionaries\n",
    "\n",
    "6. **Why are lists mutable,but tuples are immutable?**\n",
    " - In Lists data can be modified after it's creation.These are used when data need modification after certain time.Where as in tuples data can't be modified after it's creation.These are used when data integrity and performance is needed.\n",
    "\n",
    "7. **What is the difference between “==” and “is” operators in Python?**\n",
    " - \"==\" operator is used when we need to check if one value is equal to another value and \"is\" operator is used when we need to check whether data is\n",
    "   stored in same memory location or different.\n",
    "\n",
    "8. **What are logical operators in Python?**\n",
    " - Logical operators are used to perform logical operations.\n",
    " - and : return True if both conditions are True\n",
    " - or : return True if one of conditions is True.\n",
    " - not : return True if condition is False. e.g. not(1>5) = True\n",
    "\n",
    "9. **What is type casting in Python?**\n",
    " - Converting one data type into another is known as type casting.\n",
    "\n",
    "10. **What is the difference between implicit and explicit type casting?**\n",
    " -  **Implicit type casting** : Done automatically by Python e.g. x = 1 y = 1.5  x+y = 2.5\n",
    " -  **Explicit type casting** : Done manually by user with the help of functions like int(),float(),set(),list()etc\n",
    "\n",
    "11. **What is the purpose of conditional statements in Python?**\n",
    " -  Conditional statement are useful in cases where multiple conditions are present.These are used to make decisions in program.Based on that decision      only certain block of code will execute.\n",
    "\n",
    "12. **How does the elif statement work?**\n",
    " -  elif statements are useful when multiple conditions need to be checked.because of elif statements we don't have to use if else statement again and      again.\n",
    "\n",
    "13. **What is the difference between for and while loops?**\n",
    " -  for loop iterates on only given number of times.In for loop number of iteration are known.\n",
    " -  while loop iterates until a particular condition is met.In while loop number of iteration are unknown.\n",
    "\n",
    "14. **Describe a scenario where a while loop is more suitable than a for loop?**\n",
    " -  When we need to ask user where is the location of Maha Kumbh. The loop will continue untill user enter the right location.\n",
    "\n"
   ]
  },
  {
   "cell_type": "code",
   "execution_count": 12,
   "id": "fa6a109a-e7ed-4efa-86bf-b4ac22ea390d",
   "metadata": {},
   "outputs": [
    {
     "name": "stdout",
     "output_type": "stream",
     "text": [
      "where is the location of Maha Kumbh:  prayagraj\n"
     ]
    },
    {
     "name": "stdout",
     "output_type": "stream",
     "text": [
      "well done\n"
     ]
    }
   ],
   "source": [
    "while True:\n",
    "    user_input = input(\"where is the location of Maha Kumbh: \")\n",
    "    if user_input.lower() == 'prayagraj':\n",
    "        print(\"Well done\")\n",
    "        break"
   ]
  },
  {
   "cell_type": "code",
   "execution_count": 14,
   "id": "c7f911ad-6681-4a53-b660-cf3b1dddb781",
   "metadata": {},
   "outputs": [
    {
     "name": "stdout",
     "output_type": "stream",
     "text": [
      "Hello, World!\n"
     ]
    }
   ],
   "source": [
    "#  Write a Python program to print \"Hello, World!\"\n",
    "print(\"Hello, World!\")"
   ]
  },
  {
   "cell_type": "code",
   "execution_count": 20,
   "id": "1d87b810-69fe-40ef-b20e-fc79ef43bd23",
   "metadata": {},
   "outputs": [
    {
     "name": "stdout",
     "output_type": "stream",
     "text": [
      " My name is Rupesh and i am 29 years old.\n"
     ]
    }
   ],
   "source": [
    "# Write a Python program that displays your name and age\n",
    "name = 'Rupesh'\n",
    "age = 29\n",
    "print(f\" My name is {name} and i am {age} years old.\") "
   ]
  },
  {
   "cell_type": "code",
   "execution_count": 22,
   "id": "8cf7193a-0efd-4de8-8ba0-b245e75be878",
   "metadata": {},
   "outputs": [
    {
     "name": "stdout",
     "output_type": "stream",
     "text": [
      "['False', 'None', 'True', 'and', 'as', 'assert', 'async', 'await', 'break', 'class', 'continue', 'def', 'del', 'elif', 'else', 'except', 'finally', 'for', 'from', 'global', 'if', 'import', 'in', 'is', 'lambda', 'nonlocal', 'not', 'or', 'pass', 'raise', 'return', 'try', 'while', 'with', 'yield']\n"
     ]
    }
   ],
   "source": [
    "# Write code to print all the pre-defined keywords in Python using the keyword library\n",
    "import keyword\n",
    "print(keyword.kwlist)"
   ]
  },
  {
   "cell_type": "code",
   "execution_count": 34,
   "id": "3e40836e-ee6e-4d66-b41e-85b9119e5082",
   "metadata": {},
   "outputs": [
    {
     "name": "stdout",
     "output_type": "stream",
     "text": [
      "->  fsda\n"
     ]
    },
    {
     "name": "stdout",
     "output_type": "stream",
     "text": [
      "It's not a built in keyword\n"
     ]
    },
    {
     "name": "stdout",
     "output_type": "stream",
     "text": [
      "->  if\n"
     ]
    },
    {
     "name": "stdout",
     "output_type": "stream",
     "text": [
      "This is a built in keyword\n"
     ]
    }
   ],
   "source": [
    "# Write a program that checks if a given word is a Python keyword\n",
    "import keyword\n",
    "key_list = keyword.kwlist\n",
    "while True:\n",
    "    user_input = input(\"-> \")\n",
    "    if user_input in key_list:\n",
    "        print (\"This is a built in keyword\")\n",
    "        break\n",
    "    print (\"It's not a built in keyword\")\n",
    "        "
   ]
  },
  {
   "cell_type": "code",
   "execution_count": 46,
   "id": "6f23dca6-d80b-4bd0-b226-4b23ff0f0050",
   "metadata": {},
   "outputs": [
    {
     "name": "stdout",
     "output_type": "stream",
     "text": [
      "['Maruti', 'Tata', 'Skoda']\n"
     ]
    }
   ],
   "source": [
    "#Create a list and tuple in Python, and demonstrate how attempting to change an element works differently for each\n",
    "car_list = [\"Maruti\",\"Hyundai\",\"Skoda\"]\n",
    "car_list[1] = 'Tata'\n",
    "print(car_list)"
   ]
  },
  {
   "cell_type": "code",
   "execution_count": 48,
   "id": "51ccc566-e8da-40df-ad6d-c67e8cfafd5f",
   "metadata": {},
   "outputs": [
    {
     "ename": "TypeError",
     "evalue": "'tuple' object does not support item assignment",
     "output_type": "error",
     "traceback": [
      "\u001b[1;31m---------------------------------------------------------------------------\u001b[0m",
      "\u001b[1;31mTypeError\u001b[0m                                 Traceback (most recent call last)",
      "Cell \u001b[1;32mIn[48], line 2\u001b[0m\n\u001b[0;32m      1\u001b[0m car_tuple \u001b[38;5;241m=\u001b[39m (\u001b[38;5;124m\"\u001b[39m\u001b[38;5;124mMaruti\u001b[39m\u001b[38;5;124m\"\u001b[39m,\u001b[38;5;124m\"\u001b[39m\u001b[38;5;124mHyundai\u001b[39m\u001b[38;5;124m\"\u001b[39m,\u001b[38;5;124m\"\u001b[39m\u001b[38;5;124mSkoda\u001b[39m\u001b[38;5;124m\"\u001b[39m)\n\u001b[1;32m----> 2\u001b[0m car_tuple[\u001b[38;5;241m1\u001b[39m] \u001b[38;5;241m=\u001b[39m \u001b[38;5;124m'\u001b[39m\u001b[38;5;124mTata\u001b[39m\u001b[38;5;124m'\u001b[39m\n\u001b[0;32m      3\u001b[0m \u001b[38;5;28mprint\u001b[39m(car_tuple)\n",
      "\u001b[1;31mTypeError\u001b[0m: 'tuple' object does not support item assignment"
     ]
    }
   ],
   "source": [
    "car_tuple = (\"Maruti\",\"Hyundai\",\"Skoda\")\n",
    "car_tuple[1] = 'Tata'\n",
    "print(car_tuple)"
   ]
  },
  {
   "cell_type": "code",
   "execution_count": 52,
   "id": "fbd3b834-65ad-4470-a368-4505f877f720",
   "metadata": {},
   "outputs": [
    {
     "name": "stdout",
     "output_type": "stream",
     "text": [
      "['Maruti', 'Hyundai', 'Skoda', 'Tata']\n"
     ]
    }
   ],
   "source": [
    "# Write a function to demonstrate the behavior of mutable and immutable arguments\n",
    "#Mutable arguments\n",
    "car_list = [\"Maruti\",\"Hyundai\",\"Skoda\"]\n",
    "car_list.append(\"Tata\")\n",
    "print(car_list)"
   ]
  },
  {
   "cell_type": "code",
   "execution_count": 58,
   "id": "d0516f54-7f49-407c-a027-1db34bf86462",
   "metadata": {},
   "outputs": [
    {
     "ename": "TypeError",
     "evalue": "'tuple' object does not support item assignment",
     "output_type": "error",
     "traceback": [
      "\u001b[1;31m---------------------------------------------------------------------------\u001b[0m",
      "\u001b[1;31mTypeError\u001b[0m                                 Traceback (most recent call last)",
      "Cell \u001b[1;32mIn[58], line 3\u001b[0m\n\u001b[0;32m      1\u001b[0m \u001b[38;5;66;03m# Immutable arguments\u001b[39;00m\n\u001b[0;32m      2\u001b[0m car_tuple \u001b[38;5;241m=\u001b[39m (\u001b[38;5;124m\"\u001b[39m\u001b[38;5;124mMaruti\u001b[39m\u001b[38;5;124m\"\u001b[39m,\u001b[38;5;124m\"\u001b[39m\u001b[38;5;124mHyundai\u001b[39m\u001b[38;5;124m\"\u001b[39m,\u001b[38;5;124m\"\u001b[39m\u001b[38;5;124mSkoda\u001b[39m\u001b[38;5;124m\"\u001b[39m)\n\u001b[1;32m----> 3\u001b[0m car_tuple[\u001b[38;5;241m1\u001b[39m] \u001b[38;5;241m=\u001b[39m \u001b[38;5;124m'\u001b[39m\u001b[38;5;124mTata\u001b[39m\u001b[38;5;124m'\u001b[39m\n\u001b[0;32m      4\u001b[0m \u001b[38;5;28mprint\u001b[39m(car_tuple)\n",
      "\u001b[1;31mTypeError\u001b[0m: 'tuple' object does not support item assignment"
     ]
    }
   ],
   "source": [
    "# Immutable arguments\n",
    "car_tuple = (\"Maruti\",\"Hyundai\",\"Skoda\")\n",
    "car_tuple[1] = 'Tata'\n",
    "print(car_tuple) # Can't be modified"
   ]
  },
  {
   "cell_type": "code",
   "execution_count": 67,
   "id": "e23081b6-4a38-422f-b6e6-57c3f7dd1a59",
   "metadata": {},
   "outputs": [
    {
     "name": "stdout",
     "output_type": "stream",
     "text": [
      "a and b: False\n",
      "a or b: True\n",
      "not a: False\n",
      "not b: True\n"
     ]
    }
   ],
   "source": [
    "# Write a program to demonstrate the use of logical operators\n",
    "a = True\n",
    "b = False\n",
    "\n",
    "# AND Operator: Returns True if both conditions are True\n",
    "print(\"a and b:\", a and b)  # False\n",
    "\n",
    "# OR Operator: Returns True if at least one condition is True\n",
    "print(\"a or b:\", a or b)  # True\n",
    "\n",
    "# NOT Operator: Returns the opposite of the boolean value\n",
    "print(\"not a:\", not a)  # False\n",
    "print(\"not b:\", not b)  # True\n",
    "\n"
   ]
  },
  {
   "cell_type": "code",
   "execution_count": 73,
   "id": "67f13696-4dc0-4b7c-96fd-41016c83ec87",
   "metadata": {},
   "outputs": [
    {
     "name": "stdout",
     "output_type": "stream",
     "text": [
      "1 1.0 True\n"
     ]
    }
   ],
   "source": [
    "#  Write a Python program to convert user input from string to integer, float, and boolean types\n",
    "user_input = '1'\n",
    "print(int(user_input), float(user_input), bool(user_input))"
   ]
  },
  {
   "cell_type": "code",
   "execution_count": 75,
   "id": "c529d7ff-bd3b-4db6-8098-01d401c7262f",
   "metadata": {},
   "outputs": [
    {
     "name": "stdout",
     "output_type": "stream",
     "text": [
      "{'Hyundai', 'Tata', 'Maruti', 'Skoda'}\n"
     ]
    }
   ],
   "source": [
    "# Write code to demonstrate type casting with list elements\n",
    "car = ['Maruti', 'Hyundai', 'Skoda', 'Tata']\n",
    "print(set(car))"
   ]
  },
  {
   "cell_type": "code",
   "execution_count": 85,
   "id": "69e32735-a2de-4e8a-b128-d76403e65dc1",
   "metadata": {},
   "outputs": [
    {
     "name": "stdout",
     "output_type": "stream",
     "text": [
      "Positive\n"
     ]
    }
   ],
   "source": [
    "# Write a program that checks if a number is positive, negative, or zero\n",
    "num = 10\n",
    "if num > 0:\n",
    "    print(\"Positive\")\n",
    "elif num < 0:\n",
    "    print(\"Negative\")\n",
    "else:\n",
    "    print(\"Zero\")"
   ]
  },
  {
   "cell_type": "code",
   "execution_count": 89,
   "id": "96b6517b-c60f-4d85-9350-781a83e45ebc",
   "metadata": {},
   "outputs": [
    {
     "name": "stdout",
     "output_type": "stream",
     "text": [
      "1\n",
      "2\n",
      "3\n",
      "4\n",
      "5\n",
      "6\n",
      "7\n",
      "8\n",
      "9\n",
      "10\n"
     ]
    }
   ],
   "source": [
    "# Write a for loop to print numbers from 1 to 10\n",
    "for i in range(1,11):\n",
    "    print(i)"
   ]
  },
  {
   "cell_type": "code",
   "execution_count": 105,
   "id": "8a429b5a-a427-4d66-96c4-2539ed98d912",
   "metadata": {},
   "outputs": [
    {
     "name": "stdout",
     "output_type": "stream",
     "text": [
      "sum of all even numbers between 1 and 50: 650\n"
     ]
    }
   ],
   "source": [
    "#Write a Python program to find the sum of all even numbers between 1 and 50\n",
    "sum_even = 0\n",
    "for i in range(1,51):\n",
    "    if i%2 == 0:\n",
    "        sum_even += i\n",
    "print(f\"sum of all even numbers between 1 and 50: {sum_even}\")"
   ]
  },
  {
   "cell_type": "code",
   "execution_count": 9,
   "id": "2b04ad4a-cbf8-4b0a-b6b8-6e9ae125b1fe",
   "metadata": {},
   "outputs": [
    {
     "name": "stdout",
     "output_type": "stream",
     "text": [
      "hsepuR\n"
     ]
    }
   ],
   "source": [
    "# Write a program to reverse a string using a while loop\n",
    "name = 'Rupesh'\n",
    "rev_name = \"\"\n",
    "i = len(name) -1\n",
    "while i >= 0:\n",
    "    rev_name += name[i]\n",
    "    i -= 1\n",
    "print (rev_name)"
   ]
  },
  {
   "cell_type": "code",
   "execution_count": 15,
   "id": "5fb2644c-413f-4f25-b806-1040faa4a507",
   "metadata": {},
   "outputs": [
    {
     "name": "stdout",
     "output_type": "stream",
     "text": [
      "Enter num:  5\n"
     ]
    },
    {
     "name": "stdout",
     "output_type": "stream",
     "text": [
      "factorial: 120\n"
     ]
    }
   ],
   "source": [
    "#  Write a Python program to calculate the factorial of a number provided by the user using a while loop.\n",
    "user_inp = int(input(\"Enter num: \"))\n",
    "fact = 1\n",
    "while user_inp > 0:\n",
    "    fact *= user_inp\n",
    "    user_inp -= 1\n",
    "print(\"factorial:\",fact)"
   ]
  },
  {
   "cell_type": "code",
   "execution_count": null,
   "id": "b8889dd3-1cfd-4ba4-828a-07677f766ad4",
   "metadata": {},
   "outputs": [],
   "source": []
  }
 ],
 "metadata": {
  "kernelspec": {
   "display_name": "Python 3",
   "language": "python",
   "name": "python3"
  },
  "language_info": {
   "codemirror_mode": {
    "name": "ipython",
    "version": 3
   },
   "file_extension": ".py",
   "mimetype": "text/x-python",
   "name": "python",
   "nbconvert_exporter": "python",
   "pygments_lexer": "ipython3",
   "version": "3.13.0"
  }
 },
 "nbformat": 4,
 "nbformat_minor": 5
}
